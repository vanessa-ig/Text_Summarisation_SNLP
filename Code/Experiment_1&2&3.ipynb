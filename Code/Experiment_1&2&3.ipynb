{
 "cells": [
  {
   "cell_type": "code",
   "execution_count": 2,
   "id": "a6c01d86",
   "metadata": {},
   "outputs": [
    {
     "name": "stdout",
     "output_type": "stream",
     "text": [
      "\u001b[31mERROR: Invalid requirement: 'rouge/requirements.txt'\n",
      "Hint: It looks like a path. File 'rouge/requirements.txt' does not exist.\u001b[0m\n",
      "Requirement already satisfied: rouge-score in /opt/anaconda3/lib/python3.8/site-packages (0.0.4)\n",
      "Requirement already satisfied: nltk in /opt/anaconda3/lib/python3.8/site-packages (from rouge-score) (3.6.5)\n",
      "Requirement already satisfied: six>=1.14.0 in /opt/anaconda3/lib/python3.8/site-packages (from rouge-score) (1.16.0)\n",
      "Requirement already satisfied: absl-py in /opt/anaconda3/lib/python3.8/site-packages (from rouge-score) (1.0.0)\n",
      "Requirement already satisfied: numpy in /opt/anaconda3/lib/python3.8/site-packages (from rouge-score) (1.21.2)\n",
      "Requirement already satisfied: click in /opt/anaconda3/lib/python3.8/site-packages (from nltk->rouge-score) (8.0.3)\n",
      "Requirement already satisfied: joblib in /opt/anaconda3/lib/python3.8/site-packages (from nltk->rouge-score) (1.1.0)\n",
      "Requirement already satisfied: regex>=2021.8.3 in /opt/anaconda3/lib/python3.8/site-packages (from nltk->rouge-score) (2021.11.2)\n",
      "Requirement already satisfied: tqdm in /opt/anaconda3/lib/python3.8/site-packages (from nltk->rouge-score) (4.62.3)\n"
     ]
    }
   ],
   "source": [
    "!pip install rouge/requirements.txt\n",
    "!pip install rouge-score"
   ]
  },
  {
   "cell_type": "code",
   "execution_count": 3,
   "id": "4678fb37",
   "metadata": {},
   "outputs": [
    {
     "name": "stdout",
     "output_type": "stream",
     "text": [
      "Requirement already satisfied: scikit-learn in /opt/anaconda3/lib/python3.8/site-packages (1.0.2)\n",
      "Requirement already satisfied: joblib>=0.11 in /opt/anaconda3/lib/python3.8/site-packages (from scikit-learn) (1.1.0)\n",
      "Requirement already satisfied: threadpoolctl>=2.0.0 in /opt/anaconda3/lib/python3.8/site-packages (from scikit-learn) (2.2.0)\n",
      "Requirement already satisfied: numpy>=1.14.6 in /opt/anaconda3/lib/python3.8/site-packages (from scikit-learn) (1.21.2)\n",
      "Requirement already satisfied: scipy>=1.1.0 in /opt/anaconda3/lib/python3.8/site-packages (from scikit-learn) (1.7.3)\n"
     ]
    }
   ],
   "source": [
    "!pip install scikit-learn"
   ]
  },
  {
   "cell_type": "code",
   "execution_count": 4,
   "id": "780cd16b",
   "metadata": {},
   "outputs": [],
   "source": [
    "import pandas as pd\n",
    "import numpy as np\n",
    "import math\n",
    "from rouge_score import rouge_scorer\n",
    "from matplotlib import pyplot as plt\n",
    "from sklearn.linear_model import LinearRegression\n",
    "from scipy import stats"
   ]
  },
  {
   "cell_type": "code",
   "execution_count": 54,
   "id": "bb973698",
   "metadata": {},
   "outputs": [],
   "source": [
    "WikiHow_sample_leq512 = pd.read_csv('WikiHow_sample_leq512_withsummary.csv')\n",
    "WikiHow_sample_in1024 = pd.read_csv('WikiHow_sample_in1024_withsummary.csv')\n",
    "WikiHow_sample_in2048 = pd.read_csv('WikiHow_sample_in2048_withsummary.csv')\n",
    "WikiHow_sample_all = pd.read_csv('WikiHow_sample_all_withsummary.csv')"
   ]
  },
  {
   "cell_type": "markdown",
   "id": "c6143b58",
   "metadata": {},
   "source": [
    "### Correlation & Rouge Score"
   ]
  },
  {
   "cell_type": "code",
   "execution_count": 10,
   "id": "59c0175e",
   "metadata": {},
   "outputs": [],
   "source": [
    "def rouge_score(data):\n",
    "    scorer = rouge_scorer.RougeScorer(['rouge1', 'rouge2', 'rougeL', 'rougeLsum'], use_stemmer=True)\n",
    "    n = len(data[data['summary']!='empty'])\n",
    "    i = 0\n",
    "    df = data.loc[:n , :]\n",
    "    for headline, summary in zip(df['headline'], df['summary']):\n",
    "        scores = scorer.score(summary,headline)\n",
    "        data.loc[i,'Rouge1'] = scores['rouge1'].fmeasure\n",
    "        data.loc[i,'Rouge2'] = scores['rouge2'].fmeasure\n",
    "        data.loc[i,'RougeL'] = scores['rougeL'].fmeasure\n",
    "        data.loc[i,'RougeLsum'] = scores['rougeLsum'].fmeasure\n",
    "        i += 1\n",
    "    df = data.loc[:n , :]\n",
    "    temp =  {'Rouge1': [df['Rouge1'].mean()], \n",
    "        'Rouge2': [df['Rouge2'].mean()], \n",
    "        'RougeL': [df['RougeL'].mean()],\n",
    "        'RougeLsum': [df['RougeLsum'].mean()]} \n",
    "    rouge_table = pd.DataFrame(temp, index=['T5'])\n",
    "    return data, rouge_table"
   ]
  },
  {
   "cell_type": "code",
   "execution_count": 11,
   "id": "c4a6cd87",
   "metadata": {},
   "outputs": [],
   "source": [
    "def correlation(data):\n",
    "    n = len(data[data['summary']!='empty'])\n",
    "    df = data.loc[:n,:]\n",
    "    temp = {'Rouge1': [df['text_length'].corr(df['Rouge1'])], \n",
    "        'Rouge2': [df['text_length'].corr(df['Rouge2'])], \n",
    "        'RougeL': [df['text_length'].corr(df['RougeL'])],\n",
    "        'RougeLsum': [df['text_length'].corr(df['RougeLsum'])]} \n",
    "    corr_table = pd.DataFrame(temp, index=['text_length'])\n",
    "    return corr_table"
   ]
  },
  {
   "cell_type": "markdown",
   "id": "7d9f083d",
   "metadata": {},
   "source": [
    "### Correlation & Rouge Score(512)"
   ]
  },
  {
   "cell_type": "code",
   "execution_count": 78,
   "id": "c12837c2",
   "metadata": {},
   "outputs": [],
   "source": [
    "WikiHow_sample_leq512, rouge_512 = rouge_score(WikiHow_sample_leq512)"
   ]
  },
  {
   "cell_type": "code",
   "execution_count": 79,
   "id": "c4d2f8b5",
   "metadata": {},
   "outputs": [
    {
     "data": {
      "text/html": [
       "<div>\n",
       "<style scoped>\n",
       "    .dataframe tbody tr th:only-of-type {\n",
       "        vertical-align: middle;\n",
       "    }\n",
       "\n",
       "    .dataframe tbody tr th {\n",
       "        vertical-align: top;\n",
       "    }\n",
       "\n",
       "    .dataframe thead th {\n",
       "        text-align: right;\n",
       "    }\n",
       "</style>\n",
       "<table border=\"1\" class=\"dataframe\">\n",
       "  <thead>\n",
       "    <tr style=\"text-align: right;\">\n",
       "      <th></th>\n",
       "      <th>Rouge1</th>\n",
       "      <th>Rouge2</th>\n",
       "      <th>RougeL</th>\n",
       "      <th>RougeLsum</th>\n",
       "    </tr>\n",
       "  </thead>\n",
       "  <tbody>\n",
       "    <tr>\n",
       "      <th>T5</th>\n",
       "      <td>0.22396</td>\n",
       "      <td>0.051672</td>\n",
       "      <td>0.157843</td>\n",
       "      <td>0.181471</td>\n",
       "    </tr>\n",
       "  </tbody>\n",
       "</table>\n",
       "</div>"
      ],
      "text/plain": [
       "     Rouge1    Rouge2    RougeL  RougeLsum\n",
       "T5  0.22396  0.051672  0.157843   0.181471"
      ]
     },
     "execution_count": 79,
     "metadata": {},
     "output_type": "execute_result"
    }
   ],
   "source": [
    "rouge_512"
   ]
  },
  {
   "cell_type": "code",
   "execution_count": 81,
   "id": "8b6ec292",
   "metadata": {},
   "outputs": [],
   "source": [
    "corr_512 = correlation(WikiHow_sample_leq512)"
   ]
  },
  {
   "cell_type": "code",
   "execution_count": 82,
   "id": "1ebeac26",
   "metadata": {},
   "outputs": [
    {
     "data": {
      "text/html": [
       "<div>\n",
       "<style scoped>\n",
       "    .dataframe tbody tr th:only-of-type {\n",
       "        vertical-align: middle;\n",
       "    }\n",
       "\n",
       "    .dataframe tbody tr th {\n",
       "        vertical-align: top;\n",
       "    }\n",
       "\n",
       "    .dataframe thead th {\n",
       "        text-align: right;\n",
       "    }\n",
       "</style>\n",
       "<table border=\"1\" class=\"dataframe\">\n",
       "  <thead>\n",
       "    <tr style=\"text-align: right;\">\n",
       "      <th></th>\n",
       "      <th>Rouge1</th>\n",
       "      <th>Rouge2</th>\n",
       "      <th>RougeL</th>\n",
       "      <th>RougeLsum</th>\n",
       "    </tr>\n",
       "  </thead>\n",
       "  <tbody>\n",
       "    <tr>\n",
       "      <th>text_length</th>\n",
       "      <td>0.2084</td>\n",
       "      <td>0.080342</td>\n",
       "      <td>0.137084</td>\n",
       "      <td>0.182836</td>\n",
       "    </tr>\n",
       "  </tbody>\n",
       "</table>\n",
       "</div>"
      ],
      "text/plain": [
       "             Rouge1    Rouge2    RougeL  RougeLsum\n",
       "text_length  0.2084  0.080342  0.137084   0.182836"
      ]
     },
     "execution_count": 82,
     "metadata": {},
     "output_type": "execute_result"
    }
   ],
   "source": [
    "corr_512"
   ]
  },
  {
   "cell_type": "markdown",
   "id": "6b50d42d",
   "metadata": {},
   "source": [
    "### Correlation & Rouge Score(1024)"
   ]
  },
  {
   "cell_type": "code",
   "execution_count": 84,
   "id": "c50fb1c4",
   "metadata": {},
   "outputs": [],
   "source": [
    "WikiHow_sample_in1024, rouge_1024 = rouge_score(WikiHow_sample_in1024)"
   ]
  },
  {
   "cell_type": "code",
   "execution_count": 85,
   "id": "78c34eae",
   "metadata": {},
   "outputs": [
    {
     "data": {
      "text/html": [
       "<div>\n",
       "<style scoped>\n",
       "    .dataframe tbody tr th:only-of-type {\n",
       "        vertical-align: middle;\n",
       "    }\n",
       "\n",
       "    .dataframe tbody tr th {\n",
       "        vertical-align: top;\n",
       "    }\n",
       "\n",
       "    .dataframe thead th {\n",
       "        text-align: right;\n",
       "    }\n",
       "</style>\n",
       "<table border=\"1\" class=\"dataframe\">\n",
       "  <thead>\n",
       "    <tr style=\"text-align: right;\">\n",
       "      <th></th>\n",
       "      <th>Rouge1</th>\n",
       "      <th>Rouge2</th>\n",
       "      <th>RougeL</th>\n",
       "      <th>RougeLsum</th>\n",
       "    </tr>\n",
       "  </thead>\n",
       "  <tbody>\n",
       "    <tr>\n",
       "      <th>T5</th>\n",
       "      <td>0.235116</td>\n",
       "      <td>0.049828</td>\n",
       "      <td>0.153468</td>\n",
       "      <td>0.189088</td>\n",
       "    </tr>\n",
       "  </tbody>\n",
       "</table>\n",
       "</div>"
      ],
      "text/plain": [
       "      Rouge1    Rouge2    RougeL  RougeLsum\n",
       "T5  0.235116  0.049828  0.153468   0.189088"
      ]
     },
     "execution_count": 85,
     "metadata": {},
     "output_type": "execute_result"
    }
   ],
   "source": [
    "rouge_1024"
   ]
  },
  {
   "cell_type": "code",
   "execution_count": 86,
   "id": "8b98bc41",
   "metadata": {},
   "outputs": [],
   "source": [
    "corr_1024 = correlation(WikiHow_sample_in1024)"
   ]
  },
  {
   "cell_type": "code",
   "execution_count": 87,
   "id": "6ca5f5fd",
   "metadata": {},
   "outputs": [
    {
     "data": {
      "text/html": [
       "<div>\n",
       "<style scoped>\n",
       "    .dataframe tbody tr th:only-of-type {\n",
       "        vertical-align: middle;\n",
       "    }\n",
       "\n",
       "    .dataframe tbody tr th {\n",
       "        vertical-align: top;\n",
       "    }\n",
       "\n",
       "    .dataframe thead th {\n",
       "        text-align: right;\n",
       "    }\n",
       "</style>\n",
       "<table border=\"1\" class=\"dataframe\">\n",
       "  <thead>\n",
       "    <tr style=\"text-align: right;\">\n",
       "      <th></th>\n",
       "      <th>Rouge1</th>\n",
       "      <th>Rouge2</th>\n",
       "      <th>RougeL</th>\n",
       "      <th>RougeLsum</th>\n",
       "    </tr>\n",
       "  </thead>\n",
       "  <tbody>\n",
       "    <tr>\n",
       "      <th>text_length</th>\n",
       "      <td>-0.036393</td>\n",
       "      <td>-0.040527</td>\n",
       "      <td>-0.088894</td>\n",
       "      <td>-0.037442</td>\n",
       "    </tr>\n",
       "  </tbody>\n",
       "</table>\n",
       "</div>"
      ],
      "text/plain": [
       "               Rouge1    Rouge2    RougeL  RougeLsum\n",
       "text_length -0.036393 -0.040527 -0.088894  -0.037442"
      ]
     },
     "execution_count": 87,
     "metadata": {},
     "output_type": "execute_result"
    }
   ],
   "source": [
    "corr_1024"
   ]
  },
  {
   "cell_type": "markdown",
   "id": "f6601b94",
   "metadata": {},
   "source": [
    "### Correlation & Rouge Score(2048)"
   ]
  },
  {
   "cell_type": "code",
   "execution_count": 88,
   "id": "156f3212",
   "metadata": {},
   "outputs": [],
   "source": [
    "WikiHow_sample_in2048, rouge_2048 = rouge_score(WikiHow_sample_in2048)"
   ]
  },
  {
   "cell_type": "code",
   "execution_count": 89,
   "id": "cda51527",
   "metadata": {},
   "outputs": [
    {
     "data": {
      "text/html": [
       "<div>\n",
       "<style scoped>\n",
       "    .dataframe tbody tr th:only-of-type {\n",
       "        vertical-align: middle;\n",
       "    }\n",
       "\n",
       "    .dataframe tbody tr th {\n",
       "        vertical-align: top;\n",
       "    }\n",
       "\n",
       "    .dataframe thead th {\n",
       "        text-align: right;\n",
       "    }\n",
       "</style>\n",
       "<table border=\"1\" class=\"dataframe\">\n",
       "  <thead>\n",
       "    <tr style=\"text-align: right;\">\n",
       "      <th></th>\n",
       "      <th>Rouge1</th>\n",
       "      <th>Rouge2</th>\n",
       "      <th>RougeL</th>\n",
       "      <th>RougeLsum</th>\n",
       "    </tr>\n",
       "  </thead>\n",
       "  <tbody>\n",
       "    <tr>\n",
       "      <th>T5</th>\n",
       "      <td>0.23207</td>\n",
       "      <td>0.048085</td>\n",
       "      <td>0.14163</td>\n",
       "      <td>0.189575</td>\n",
       "    </tr>\n",
       "  </tbody>\n",
       "</table>\n",
       "</div>"
      ],
      "text/plain": [
       "     Rouge1    Rouge2   RougeL  RougeLsum\n",
       "T5  0.23207  0.048085  0.14163   0.189575"
      ]
     },
     "execution_count": 89,
     "metadata": {},
     "output_type": "execute_result"
    }
   ],
   "source": [
    "rouge_2048"
   ]
  },
  {
   "cell_type": "code",
   "execution_count": 90,
   "id": "02336421",
   "metadata": {},
   "outputs": [],
   "source": [
    "corr_2048 = correlation(WikiHow_sample_in2048)"
   ]
  },
  {
   "cell_type": "code",
   "execution_count": 91,
   "id": "efd1a119",
   "metadata": {},
   "outputs": [
    {
     "data": {
      "text/html": [
       "<div>\n",
       "<style scoped>\n",
       "    .dataframe tbody tr th:only-of-type {\n",
       "        vertical-align: middle;\n",
       "    }\n",
       "\n",
       "    .dataframe tbody tr th {\n",
       "        vertical-align: top;\n",
       "    }\n",
       "\n",
       "    .dataframe thead th {\n",
       "        text-align: right;\n",
       "    }\n",
       "</style>\n",
       "<table border=\"1\" class=\"dataframe\">\n",
       "  <thead>\n",
       "    <tr style=\"text-align: right;\">\n",
       "      <th></th>\n",
       "      <th>Rouge1</th>\n",
       "      <th>Rouge2</th>\n",
       "      <th>RougeL</th>\n",
       "      <th>RougeLsum</th>\n",
       "    </tr>\n",
       "  </thead>\n",
       "  <tbody>\n",
       "    <tr>\n",
       "      <th>text_length</th>\n",
       "      <td>-0.009326</td>\n",
       "      <td>-0.012757</td>\n",
       "      <td>-0.054095</td>\n",
       "      <td>0.005177</td>\n",
       "    </tr>\n",
       "  </tbody>\n",
       "</table>\n",
       "</div>"
      ],
      "text/plain": [
       "               Rouge1    Rouge2    RougeL  RougeLsum\n",
       "text_length -0.009326 -0.012757 -0.054095   0.005177"
      ]
     },
     "execution_count": 91,
     "metadata": {},
     "output_type": "execute_result"
    }
   ],
   "source": [
    "corr_2048"
   ]
  },
  {
   "cell_type": "markdown",
   "id": "0d5eca37",
   "metadata": {},
   "source": [
    "### Correlation & Rouge Score (ALL)"
   ]
  },
  {
   "cell_type": "code",
   "execution_count": 157,
   "id": "e559dcfa",
   "metadata": {},
   "outputs": [],
   "source": [
    "WikiHow_sample_all, rouge_all = rouge_score(WikiHow_sample_all)"
   ]
  },
  {
   "cell_type": "code",
   "execution_count": 158,
   "id": "91706498",
   "metadata": {},
   "outputs": [
    {
     "data": {
      "text/html": [
       "<div>\n",
       "<style scoped>\n",
       "    .dataframe tbody tr th:only-of-type {\n",
       "        vertical-align: middle;\n",
       "    }\n",
       "\n",
       "    .dataframe tbody tr th {\n",
       "        vertical-align: top;\n",
       "    }\n",
       "\n",
       "    .dataframe thead th {\n",
       "        text-align: right;\n",
       "    }\n",
       "</style>\n",
       "<table border=\"1\" class=\"dataframe\">\n",
       "  <thead>\n",
       "    <tr style=\"text-align: right;\">\n",
       "      <th></th>\n",
       "      <th>Rouge1</th>\n",
       "      <th>Rouge2</th>\n",
       "      <th>RougeL</th>\n",
       "      <th>RougeLsum</th>\n",
       "    </tr>\n",
       "  </thead>\n",
       "  <tbody>\n",
       "    <tr>\n",
       "      <th>T5</th>\n",
       "      <td>0.226698</td>\n",
       "      <td>0.051082</td>\n",
       "      <td>0.155553</td>\n",
       "      <td>0.18367</td>\n",
       "    </tr>\n",
       "  </tbody>\n",
       "</table>\n",
       "</div>"
      ],
      "text/plain": [
       "      Rouge1    Rouge2    RougeL  RougeLsum\n",
       "T5  0.226698  0.051082  0.155553    0.18367"
      ]
     },
     "execution_count": 158,
     "metadata": {},
     "output_type": "execute_result"
    }
   ],
   "source": [
    "rouge_all"
   ]
  },
  {
   "cell_type": "code",
   "execution_count": 159,
   "id": "bc25fe11",
   "metadata": {},
   "outputs": [],
   "source": [
    "corr_all = correlation(WikiHow_sample_all)"
   ]
  },
  {
   "cell_type": "code",
   "execution_count": 160,
   "id": "09c148f5",
   "metadata": {},
   "outputs": [
    {
     "data": {
      "text/html": [
       "<div>\n",
       "<style scoped>\n",
       "    .dataframe tbody tr th:only-of-type {\n",
       "        vertical-align: middle;\n",
       "    }\n",
       "\n",
       "    .dataframe tbody tr th {\n",
       "        vertical-align: top;\n",
       "    }\n",
       "\n",
       "    .dataframe thead th {\n",
       "        text-align: right;\n",
       "    }\n",
       "</style>\n",
       "<table border=\"1\" class=\"dataframe\">\n",
       "  <thead>\n",
       "    <tr style=\"text-align: right;\">\n",
       "      <th></th>\n",
       "      <th>Rouge1</th>\n",
       "      <th>Rouge2</th>\n",
       "      <th>RougeL</th>\n",
       "      <th>RougeLsum</th>\n",
       "    </tr>\n",
       "  </thead>\n",
       "  <tbody>\n",
       "    <tr>\n",
       "      <th>text_length</th>\n",
       "      <td>0.087215</td>\n",
       "      <td>-0.002677</td>\n",
       "      <td>-0.03559</td>\n",
       "      <td>0.083093</td>\n",
       "    </tr>\n",
       "  </tbody>\n",
       "</table>\n",
       "</div>"
      ],
      "text/plain": [
       "               Rouge1    Rouge2   RougeL  RougeLsum\n",
       "text_length  0.087215 -0.002677 -0.03559   0.083093"
      ]
     },
     "execution_count": 160,
     "metadata": {},
     "output_type": "execute_result"
    }
   ],
   "source": [
    "corr_all"
   ]
  },
  {
   "cell_type": "markdown",
   "id": "8eac3003",
   "metadata": {},
   "source": [
    "### Linear regression(512)"
   ]
  },
  {
   "cell_type": "code",
   "execution_count": 32,
   "id": "1b30fa0d",
   "metadata": {},
   "outputs": [],
   "source": [
    "# linear regression and anova table\n",
    "import statsmodels.api as sm\n",
    "from statsmodels.formula.api import ols"
   ]
  },
  {
   "cell_type": "code",
   "execution_count": 13,
   "id": "cb983247",
   "metadata": {},
   "outputs": [
    {
     "data": {
      "text/plain": [
       "[<matplotlib.lines.Line2D at 0x1255df610>]"
      ]
     },
     "execution_count": 13,
     "metadata": {},
     "output_type": "execute_result"
    },
    {
     "data": {
      "image/png": "[encoded data removed]",
      "text/plain": [
       "<Figure size 432x288 with 1 Axes>"
      ]
     },
     "metadata": {
      "needs_background": "light"
     },
     "output_type": "display_data"
    }
   ],
   "source": [
    "plt.plot(WikiHow_sample_leq512['text_length'],WikiHow_sample_leq512['Rouge1'],'o')"
   ]
  },
  {
   "cell_type": "code",
   "execution_count": 33,
   "id": "1002d403",
   "metadata": {},
   "outputs": [],
   "source": [
    "model = ols('Rouge1 ~ C(text_length)', data=df_cropped_scored[['text_length', 'Rouge1']]).fit()\n",
    "anova_table = sm.stats.anova_lm(model, typ=2)\n",
    "anova_table"
   ]
  },
  {
   "cell_type": "code",
   "execution_count": 35,
   "id": "42ac2ede",
   "metadata": {},
   "outputs": [
    {
     "data": {
      "text/html": [
       "<div>\n",
       "<style scoped>\n",
       "    .dataframe tbody tr th:only-of-type {\n",
       "        vertical-align: middle;\n",
       "    }\n",
       "\n",
       "    .dataframe tbody tr th {\n",
       "        vertical-align: top;\n",
       "    }\n",
       "\n",
       "    .dataframe thead th {\n",
       "        text-align: right;\n",
       "    }\n",
       "</style>\n",
       "<table border=\"1\" class=\"dataframe\">\n",
       "  <thead>\n",
       "    <tr style=\"text-align: right;\">\n",
       "      <th></th>\n",
       "      <th>sum_sq</th>\n",
       "      <th>df</th>\n",
       "      <th>F</th>\n",
       "      <th>PR(&gt;F)</th>\n",
       "    </tr>\n",
       "  </thead>\n",
       "  <tbody>\n",
       "    <tr>\n",
       "      <th>C(text_length)</th>\n",
       "      <td>42.592242</td>\n",
       "      <td>480.0</td>\n",
       "      <td>10.224895</td>\n",
       "      <td>0.0</td>\n",
       "    </tr>\n",
       "    <tr>\n",
       "      <th>Residual</th>\n",
       "      <td>309.985856</td>\n",
       "      <td>35720.0</td>\n",
       "      <td>NaN</td>\n",
       "      <td>NaN</td>\n",
       "    </tr>\n",
       "  </tbody>\n",
       "</table>\n",
       "</div>"
      ],
      "text/plain": [
       "                    sum_sq       df          F  PR(>F)\n",
       "C(text_length)   42.592242    480.0  10.224895     0.0\n",
       "Residual        309.985856  35720.0        NaN     NaN"
      ]
     },
     "execution_count": 35,
     "metadata": {},
     "output_type": "execute_result"
    }
   ],
   "source": [
    "anova_table"
   ]
  },
  {
   "cell_type": "markdown",
   "id": "04de4757",
   "metadata": {},
   "source": [
    "### Linear regression(1024)"
   ]
  },
  {
   "cell_type": "code",
   "execution_count": 47,
   "id": "0a376ed8",
   "metadata": {},
   "outputs": [
    {
     "data": {
      "text/plain": [
       "[<matplotlib.lines.Line2D at 0x12ad1d760>]"
      ]
     },
     "execution_count": 47,
     "metadata": {},
     "output_type": "execute_result"
    },
    {
     "data": {
      "image/png": "[encoded data removed]",
      "text/plain": [
       "<Figure size 432x288 with 1 Axes>"
      ]
     },
     "metadata": {
      "needs_background": "light"
     },
     "output_type": "display_data"
    }
   ],
   "source": [
    "plt.plot(WikiHow_sample_in1024['text_length'],WikiHow_sample_in1024['Rouge1'],'o')"
   ]
  },
  {
   "cell_type": "markdown",
   "id": "09c69da5",
   "metadata": {},
   "source": [
    "### Linear regression (ALL)"
   ]
  },
  {
   "cell_type": "code",
   "execution_count": 155,
   "id": "47a52774",
   "metadata": {},
   "outputs": [
    {
     "data": {
      "text/plain": [
       "[<matplotlib.lines.Line2D at 0x88ebbca90>]"
      ]
     },
     "execution_count": 155,
     "metadata": {},
     "output_type": "execute_result"
    },
    {
     "data": {
      "image/png": "[encoded data removed]",
      "text/plain": [
       "<Figure size 432x288 with 1 Axes>"
      ]
     },
     "metadata": {
      "needs_background": "light"
     },
     "output_type": "display_data"
    }
   ],
   "source": [
    "plt.plot(WikiHow_sample_all['text_length'],WikiHow_sample_all['Rouge1'],'o')"
   ]
  },
  {
   "cell_type": "code",
   "execution_count": 156,
   "id": "10360e5a",
   "metadata": {},
   "outputs": [
    {
     "data": {
      "text/html": [
       "<div>\n",
       "<style scoped>\n",
       "    .dataframe tbody tr th:only-of-type {\n",
       "        vertical-align: middle;\n",
       "    }\n",
       "\n",
       "    .dataframe tbody tr th {\n",
       "        vertical-align: top;\n",
       "    }\n",
       "\n",
       "    .dataframe thead th {\n",
       "        text-align: right;\n",
       "    }\n",
       "</style>\n",
       "<table border=\"1\" class=\"dataframe\">\n",
       "  <thead>\n",
       "    <tr style=\"text-align: right;\">\n",
       "      <th></th>\n",
       "      <th>sum_sq</th>\n",
       "      <th>df</th>\n",
       "      <th>F</th>\n",
       "      <th>PR(&gt;F)</th>\n",
       "    </tr>\n",
       "  </thead>\n",
       "  <tbody>\n",
       "    <tr>\n",
       "      <th>C(text_length)</th>\n",
       "      <td>52.247185</td>\n",
       "      <td>1988.0</td>\n",
       "      <td>3.255153</td>\n",
       "      <td>0.0</td>\n",
       "    </tr>\n",
       "    <tr>\n",
       "      <th>Residual</th>\n",
       "      <td>384.722083</td>\n",
       "      <td>47651.0</td>\n",
       "      <td>NaN</td>\n",
       "      <td>NaN</td>\n",
       "    </tr>\n",
       "  </tbody>\n",
       "</table>\n",
       "</div>"
      ],
      "text/plain": [
       "                    sum_sq       df         F  PR(>F)\n",
       "C(text_length)   52.247185   1988.0  3.255153     0.0\n",
       "Residual        384.722083  47651.0       NaN     NaN"
      ]
     },
     "execution_count": 156,
     "metadata": {},
     "output_type": "execute_result"
    }
   ],
   "source": [
    "model = ols('Rouge1 ~ C(text_length)', data=WikiHow_sample_all[['text_length', 'Rouge1']]).fit()\n",
    "anova_table = sm.stats.anova_lm(model, typ=2)\n",
    "anova_table"
   ]
  },
  {
   "cell_type": "code",
   "execution_count": null,
   "id": "60d3216b",
   "metadata": {},
   "outputs": [],
   "source": []
  }
 ],
 "metadata": {
  "kernelspec": {
   "display_name": "Python 3 (ipykernel)",
   "language": "python",
   "name": "python3"
  },
  "language_info": {
   "codemirror_mode": {
    "name": "ipython",
    "version": 3
   },
   "file_extension": ".py",
   "mimetype": "text/x-python",
   "name": "python",
   "nbconvert_exporter": "python",
   "pygments_lexer": "ipython3",
   "version": "3.8.12"
  }
 },
 "nbformat": 4,
 "nbformat_minor": 5
}
