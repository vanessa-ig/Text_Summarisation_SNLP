{
 "cells": [
  {
   "cell_type": "code",
   "execution_count": 2,
   "id": "917f879b",
   "metadata": {},
   "outputs": [],
   "source": [
    "import pandas as pd\n",
    "import numpy as np\n",
    "import nltk\n",
    "from nltk.tokenize import RegexpTokenizer\n",
    "from nltk.stem import WordNetLemmatizer\n",
    "from nltk.corpus import stopwords\n",
    "from math import log10, sqrt,log"
   ]
  },
  {
   "cell_type": "code",
   "execution_count": 20,
   "id": "d6d7e087",
   "metadata": {},
   "outputs": [],
   "source": [
    "from tqdm import tqdm"
   ]
  },
  {
   "cell_type": "code",
   "execution_count": 3,
   "id": "5725b541",
   "metadata": {},
   "outputs": [],
   "source": [
    "WikiHow_sample_all = pd.read_csv('WikiHow_sample_all_withsummary.csv')"
   ]
  },
  {
   "cell_type": "code",
   "execution_count": 4,
   "id": "0ed8b4d9",
   "metadata": {},
   "outputs": [],
   "source": [
    "def preprocess(documents):\n",
    "    tokenizer = RegexpTokenizer(r'\\w+')\n",
    "    tokens = tokenizer.tokenize(documents)\n",
    "    tokens =  [token.lower() for token in tokens if token.isalpha()]\n",
    "    tokens = remove_stopwords(tokens)\n",
    "    lemmatizer = WordNetLemmatizer()\n",
    "    tokens = [lemmatizer.lemmatize(token, pos='v') for token in tokens]\n",
    "    return tokens"
   ]
  },
  {
   "cell_type": "code",
   "execution_count": 7,
   "id": "a617652c",
   "metadata": {},
   "outputs": [],
   "source": [
    "def remove_stopwords(tokens):\n",
    "    new_tokens = []\n",
    "    stop_words = set(stopwords.words(\"english\"))\n",
    "    for token in tokens:\n",
    "        if token not in stop_words:\n",
    "            new_tokens.append(token)\n",
    "    return new_tokens"
   ]
  },
  {
   "cell_type": "code",
   "execution_count": 5,
   "id": "fa499e3e",
   "metadata": {},
   "outputs": [],
   "source": [
    "def get_inverted_index(data):\n",
    "    n = len(data[data['summary']!='empty'])\n",
    "    df = data.loc[:n,:]\n",
    "    inverted_index = {}\n",
    "    for i in range(len(df)):\n",
    "        tokens = preprocess(df.loc[i,'summary'])\n",
    "        tokens_dist = nltk.FreqDist(tokens)\n",
    "        for voc in tokens_dist.keys():\n",
    "            if voc not in inverted_index.keys():\n",
    "                inverted_index[voc] = [1, tokens_dist[voc]]\n",
    "            else:\n",
    "                inverted_index[voc][0] += 1\n",
    "                inverted_index[voc][1] += tokens_dist[voc]\n",
    "    return inverted_index"
   ]
  },
  {
   "cell_type": "code",
   "execution_count": 8,
   "id": "67b1e3ad",
   "metadata": {},
   "outputs": [],
   "source": [
    "inverted_index = get_inverted_index(WikiHow_sample_all)"
   ]
  },
  {
   "cell_type": "code",
   "execution_count": 12,
   "id": "4c8c5174",
   "metadata": {},
   "outputs": [],
   "source": [
    "def length(data):\n",
    "    total_len = 0\n",
    "    for i in range(len(data)):\n",
    "        passage_len = len(preprocess(data.loc[i,'summary']))\n",
    "        total_len += passage_len\n",
    "    total_pa = len(data)\n",
    "    return total_len/total_pa, total_pa\n",
    "\n",
    "avdl, N = length(WikiHow_sample_all)"
   ]
  },
  {
   "cell_type": "code",
   "execution_count": 21,
   "id": "df5ae4d2",
   "metadata": {},
   "outputs": [],
   "source": [
    "def BM25(data, inverted_index,avdl,N, k1 = 1.2, k2 = 100,b = 0.75):\n",
    "    scores = np.zeros((len(data),3))\n",
    "    for i in tqdm(range(len(data))):\n",
    "        tokens_p = preprocess(data.loc[i,'summary'])\n",
    "        tokens_q = preprocess(data.loc[i,'title'])\n",
    "        f_p = nltk.FreqDist(tokens_p)\n",
    "        f_q = nltk.FreqDist(tokens_q)\n",
    "        dl = len(tokens_p)\n",
    "        K = k1*((1-b)+b*(dl/avdl))\n",
    "        bm25 = 0\n",
    "        for token in f_q.keys():\n",
    "            if token in inverted_index.keys():\n",
    "                term1 =  log((N-inverted_index[token][0]+0.5)/(inverted_index[token][0]+0.5))\n",
    "                term2 = (k1+1)*f_p[token]/(K+f_p[token])\n",
    "                term3 = (k2+1)*f_q[token]/(k2+f_q[token])\n",
    "                bm25 += term1 *term2 *term3\n",
    "        data.loc[i,'bm25'] = bm25\n",
    "    return data"
   ]
  },
  {
   "cell_type": "code",
   "execution_count": 22,
   "id": "88e0555f",
   "metadata": {},
   "outputs": [
    {
     "name": "stderr",
     "output_type": "stream",
     "text": [
      "100%|███████████████████████████████████| 49642/49642 [00:36<00:00, 1374.88it/s]\n"
     ]
    }
   ],
   "source": [
    "WikiHow_sample_all = BM25(WikiHow_sample_all, inverted_index,avdl,N, k1 = 1.2, k2 = 100,b = 0.75)"
   ]
  },
  {
   "cell_type": "code",
   "execution_count": 27,
   "id": "3c3391ac",
   "metadata": {},
   "outputs": [],
   "source": [
    "WikiHow_sample_all.to_csv('WikiHow_sample_all_withsummary.csv')"
   ]
  }
 ],
 "metadata": {
  "kernelspec": {
   "display_name": "Python 3 (ipykernel)",
   "language": "python",
   "name": "python3"
  },
  "language_info": {
   "codemirror_mode": {
    "name": "ipython",
    "version": 3
   },
   "file_extension": ".py",
   "mimetype": "text/x-python",
   "name": "python",
   "nbconvert_exporter": "python",
   "pygments_lexer": "ipython3",
   "version": "3.8.12"
  }
 },
 "nbformat": 4,
 "nbformat_minor": 5
}
