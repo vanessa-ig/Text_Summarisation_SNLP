{
  "nbformat": 4,
  "nbformat_minor": 0,
  "metadata": {
    "colab": {
      "name": "BERT_extra_metrics.ipynb",
      "provenance": [],
      "collapsed_sections": []
    },
    "kernelspec": {
      "name": "python3",
      "display_name": "Python 3"
    },
    "language_info": {
      "name": "python"
    }
  },
  "cells": [
    {
      "cell_type": "code",
      "source": [
        "# merging all 2 files together \n",
        "import pandas as pd \n",
        "import glob \n",
        "import os\n",
        "\n",
        "all_filenames = ['gdrive/MyDrive/SNLP_Coursework/croppedData_WikiHow_sample_leq512_results_BERT.csv', \n",
        "                 'gdrive/MyDrive/SNLP_Coursework/croppedData_WikiHow_sample_in1024_results_BERT.csv', \n",
        "                 'gdrive/MyDrive/SNLP_Coursework/croppedData_WikiHow_sample_in2048_results_BERT.csv']\n",
        "                 \n",
        "#combine all files in the list\n",
        "combined_csv = pd.concat([pd.read_csv(f) for f in all_filenames ])\n",
        "\n",
        "#export to csv\n",
        "combined_csv.to_csv('gdrive/MyDrive/SNLP_Coursework/combined_results_BERT.csv')\n",
        "\n",
        "allSummaries = combined_csv['summary'][:]\n",
        "print('we have', len(allSummaries), 'summaries total')\n",
        "\n"
      ],
      "metadata": {
        "id": "v5WhYQn7NBUI"
      },
      "execution_count": null,
      "outputs": []
    },
    {
      "cell_type": "code",
      "execution_count": null,
      "metadata": {
        "id": "0jdehYGAmy7J"
      },
      "outputs": [],
      "source": [
        "# this function was used to combine results from multiple csv files (to speed up computation)\n",
        "def combine_csv(): \n",
        "  mine = pd.read_csv('gdrive/MyDrive/SNLP_Coursework/WikiHow_sample_leq512_results_BERT.csv') \n",
        "  anjali = pd.read_csv('gdrive/MyDrive/SNLP_Coursework/Anjali_BERT_Results.csv')\n",
        "\n",
        "\n",
        "  anjTrainLength = anjali['train_length'][:]\n",
        "  anjSumms = anjali['summary'][:]\n",
        "  anjSummLength = anjali['summary_length'][:]\n",
        "\n",
        "  for i, train_length in enumerate(anjTrainLength):\n",
        "    if i > 9999 and i < 20000:\n",
        "      mine['train_length'][i] = train_length\n",
        "\n",
        "  for i, summary in enumerate(anjSumms):\n",
        "    if i > 9999 and i < 20000:\n",
        "      mine['summary'][i] = summary\n",
        "\n",
        "  for i, summary_length in enumerate(anjSummLength):\n",
        "    if i > 9999 and i < 20000:\n",
        "      mine['summary_length'][i] = summary_length\n",
        "\n",
        "  df_results.to_csv('gdrive/MyDrive/SNLP_Coursework/FINAL_WikiHow_sample_leq512_results_BERT.csv')\n",
        "\n",
        "\n",
        "\n",
        "\n",
        "\n"
      ]
    }
  ]
}