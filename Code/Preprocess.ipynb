{
  "cells": [
    {
      "cell_type": "markdown",
      "metadata": {
        "id": "view-in-github",
        "colab_type": "text"
      },
      "source": [
        "<a href=\"https://colab.research.google.com/github/Anjali001/Text_Summarisation_SNLP/blob/main/preprocess.ipynb\" target=\"_parent\"><img src=\"https://colab.research.google.com/assets/colab-badge.svg\" alt=\"Open In Colab\"/></a>"
      ]
    },
    {
      "cell_type": "code",
      "execution_count": null,
      "metadata": {
        "colab": {
          "base_uri": "https://localhost:8080/",
          "height": 224
        },
        "id": "EReHUwCho_Uo",
        "outputId": "1cf9e1b9-13ed-4d30-b053-ad874ebddc8d"
      },
      "outputs": [
        {
          "name": "stdout",
          "output_type": "stream",
          "text": [
            "Mounted at /content/gdrive\n"
          ]
        },
        {
          "data": {
            "text/html": [
              "\n",
              "  <div id=\"df-3b05a0ff-464b-4d93-bd43-20234afb439f\">\n",
              "    <div class=\"colab-df-container\">\n",
              "      <div>\n",
              "<style scoped>\n",
              "    .dataframe tbody tr th:only-of-type {\n",
              "        vertical-align: middle;\n",
              "    }\n",
              "\n",
              "    .dataframe tbody tr th {\n",
              "        vertical-align: top;\n",
              "    }\n",
              "\n",
              "    .dataframe thead th {\n",
              "        text-align: right;\n",
              "    }\n",
              "</style>\n",
              "<table border=\"1\" class=\"dataframe\">\n",
              "  <thead>\n",
              "    <tr style=\"text-align: right;\">\n",
              "      <th></th>\n",
              "      <th>headline</th>\n",
              "      <th>title</th>\n",
              "      <th>text</th>\n",
              "    </tr>\n",
              "  </thead>\n",
              "  <tbody>\n",
              "    <tr>\n",
              "      <th>0</th>\n",
              "      <td>\\nKeep related supplies in the same area.,\\nMa...</td>\n",
              "      <td>How to Be an Organized Artist1</td>\n",
              "      <td>If you're a photographer, keep all the necess...</td>\n",
              "    </tr>\n",
              "    <tr>\n",
              "      <th>1</th>\n",
              "      <td>\\nCreate a sketch in the NeoPopRealist manner ...</td>\n",
              "      <td>How to Create a Neopoprealist Art Work</td>\n",
              "      <td>See the image for how this drawing develops s...</td>\n",
              "    </tr>\n",
              "    <tr>\n",
              "      <th>2</th>\n",
              "      <td>\\nGet a bachelor’s degree.,\\nEnroll in a studi...</td>\n",
              "      <td>How to Be a Visual Effects Artist1</td>\n",
              "      <td>It is possible to become a VFX artist without...</td>\n",
              "    </tr>\n",
              "    <tr>\n",
              "      <th>3</th>\n",
              "      <td>\\nStart with some experience or interest in ar...</td>\n",
              "      <td>How to Become an Art Investor</td>\n",
              "      <td>The best art investors do their research on t...</td>\n",
              "    </tr>\n",
              "    <tr>\n",
              "      <th>4</th>\n",
              "      <td>\\nKeep your reference materials, sketches, art...</td>\n",
              "      <td>How to Be an Organized Artist2</td>\n",
              "      <td>As you start planning for a project or work, ...</td>\n",
              "    </tr>\n",
              "  </tbody>\n",
              "</table>\n",
              "</div>\n",
              "      <button class=\"colab-df-convert\" onclick=\"convertToInteractive('df-3b05a0ff-464b-4d93-bd43-20234afb439f')\"\n",
              "              title=\"Convert this dataframe to an interactive table.\"\n",
              "              style=\"display:none;\">\n",
              "        \n",
              "  <svg xmlns=\"http://www.w3.org/2000/svg\" height=\"24px\"viewBox=\"0 0 24 24\"\n",
              "       width=\"24px\">\n",
              "    <path d=\"M0 0h24v24H0V0z\" fill=\"none\"/>\n",
              "    <path d=\"M18.56 5.44l.94 2.06.94-2.06 2.06-.94-2.06-.94-.94-2.06-.94 2.06-2.06.94zm-11 1L8.5 8.5l.94-2.06 2.06-.94-2.06-.94L8.5 2.5l-.94 2.06-2.06.94zm10 10l.94 2.06.94-2.06 2.06-.94-2.06-.94-.94-2.06-.94 2.06-2.06.94z\"/><path d=\"M17.41 7.96l-1.37-1.37c-.4-.4-.92-.59-1.43-.59-.52 0-1.04.2-1.43.59L10.3 9.45l-7.72 7.72c-.78.78-.78 2.05 0 2.83L4 21.41c.39.39.9.59 1.41.59.51 0 1.02-.2 1.41-.59l7.78-7.78 2.81-2.81c.8-.78.8-2.07 0-2.86zM5.41 20L4 18.59l7.72-7.72 1.47 1.35L5.41 20z\"/>\n",
              "  </svg>\n",
              "      </button>\n",
              "      \n",
              "  <style>\n",
              "    .colab-df-container {\n",
              "      display:flex;\n",
              "      flex-wrap:wrap;\n",
              "      gap: 12px;\n",
              "    }\n",
              "\n",
              "    .colab-df-convert {\n",
              "      background-color: #E8F0FE;\n",
              "      border: none;\n",
              "      border-radius: 50%;\n",
              "      cursor: pointer;\n",
              "      display: none;\n",
              "      fill: #1967D2;\n",
              "      height: 32px;\n",
              "      padding: 0 0 0 0;\n",
              "      width: 32px;\n",
              "    }\n",
              "\n",
              "    .colab-df-convert:hover {\n",
              "      background-color: #E2EBFA;\n",
              "      box-shadow: 0px 1px 2px rgba(60, 64, 67, 0.3), 0px 1px 3px 1px rgba(60, 64, 67, 0.15);\n",
              "      fill: #174EA6;\n",
              "    }\n",
              "\n",
              "    [theme=dark] .colab-df-convert {\n",
              "      background-color: #3B4455;\n",
              "      fill: #D2E3FC;\n",
              "    }\n",
              "\n",
              "    [theme=dark] .colab-df-convert:hover {\n",
              "      background-color: #434B5C;\n",
              "      box-shadow: 0px 1px 3px 1px rgba(0, 0, 0, 0.15);\n",
              "      filter: drop-shadow(0px 1px 2px rgba(0, 0, 0, 0.3));\n",
              "      fill: #FFFFFF;\n",
              "    }\n",
              "  </style>\n",
              "\n",
              "      <script>\n",
              "        const buttonEl =\n",
              "          document.querySelector('#df-3b05a0ff-464b-4d93-bd43-20234afb439f button.colab-df-convert');\n",
              "        buttonEl.style.display =\n",
              "          google.colab.kernel.accessAllowed ? 'block' : 'none';\n",
              "\n",
              "        async function convertToInteractive(key) {\n",
              "          const element = document.querySelector('#df-3b05a0ff-464b-4d93-bd43-20234afb439f');\n",
              "          const dataTable =\n",
              "            await google.colab.kernel.invokeFunction('convertToInteractive',\n",
              "                                                     [key], {});\n",
              "          if (!dataTable) return;\n",
              "\n",
              "          const docLinkHtml = 'Like what you see? Visit the ' +\n",
              "            '<a target=\"_blank\" href=https://colab.research.google.com/notebooks/data_table.ipynb>data table notebook</a>'\n",
              "            + ' to learn more about interactive tables.';\n",
              "          element.innerHTML = '';\n",
              "          dataTable['output_type'] = 'display_data';\n",
              "          await google.colab.output.renderOutput(dataTable, element);\n",
              "          const docLink = document.createElement('div');\n",
              "          docLink.innerHTML = docLinkHtml;\n",
              "          element.appendChild(docLink);\n",
              "        }\n",
              "      </script>\n",
              "    </div>\n",
              "  </div>\n",
              "  "
            ],
            "text/plain": [
              "                                            headline  \\\n",
              "0  \\nKeep related supplies in the same area.,\\nMa...   \n",
              "1  \\nCreate a sketch in the NeoPopRealist manner ...   \n",
              "2  \\nGet a bachelor’s degree.,\\nEnroll in a studi...   \n",
              "3  \\nStart with some experience or interest in ar...   \n",
              "4  \\nKeep your reference materials, sketches, art...   \n",
              "\n",
              "                                    title  \\\n",
              "0          How to Be an Organized Artist1   \n",
              "1  How to Create a Neopoprealist Art Work   \n",
              "2      How to Be a Visual Effects Artist1   \n",
              "3           How to Become an Art Investor   \n",
              "4          How to Be an Organized Artist2   \n",
              "\n",
              "                                                text  \n",
              "0   If you're a photographer, keep all the necess...  \n",
              "1   See the image for how this drawing develops s...  \n",
              "2   It is possible to become a VFX artist without...  \n",
              "3   The best art investors do their research on t...  \n",
              "4   As you start planning for a project or work, ...  "
            ]
          },
          "execution_count": 1,
          "metadata": {},
          "output_type": "execute_result"
        }
      ],
      "source": [
        "#imprt packages\n",
        "import pandas as pd\n",
        "import numpy as np\n",
        "from matplotlib import pyplot as plt\n",
        "from sklearn.model_selection import StratifiedShuffleSplit\n",
        "\n",
        "#import dataset\n",
        "from google.colab import drive\n",
        "drive.mount('/content/gdrive', force_remount=True)\n",
        "# WikiHow = pd.read_csv('/content/gdrive/MyDrive/SNLP_Coursework/wikihowAll.csv')\n",
        "# WikiHow = pd.read_csv('/content/gdrive/MyDrive/SNLP_Coursework/WikiHow_withlength.csv')\n",
        "\n",
        "WikiHow = pd.read_csv('/content/gdrive/MyDrive/SNLP_Coursework/wikihowAll.csv')\n",
        "\n",
        "#clean dataset\n",
        "#Some questions do not have text so the column 'text' is NaN\n",
        "#Replace these with ''\n",
        "WikiHow.fillna('', inplace=True)\n",
        "\n",
        "# galance of dataframe\n",
        "WikiHow.head()"
      ]
    },
    {
      "cell_type": "code",
      "execution_count": null,
      "metadata": {
        "colab": {
          "background_save": true
        },
        "id": "Y7crC3ocpjUp"
      },
      "outputs": [],
      "source": [
        "#generate a column storing the length of each passage\n",
        "WikiHow['text_length'] = 'empty'\n",
        "for i, text in enumerate(WikiHow['text']):\n",
        "  # print(i, len(text.split()))\n",
        "  WikiHow['text_length'][i] = len(text.split())"
      ]
    },
    {
      "cell_type": "code",
      "execution_count": null,
      "metadata": {
        "id": "jVm78t2WXHx4"
      },
      "outputs": [],
      "source": [
        "#save the dataset with passage length\n",
        "WikiHow.to_csv('WikiHow_withlength.csv')\n",
        "!cp WikiHow_withlength.csv \"/content/gdrive/My Drive/SNLP_Coursework\""
      ]
    },
    {
      "cell_type": "code",
      "execution_count": null,
      "metadata": {
        "id": "orc4JqyxhMqY"
      },
      "outputs": [],
      "source": [
        "#reomove passages with length less than 30 and passages length that only appear once\n",
        "WikiHow_removed = WikiHow[WikiHow['text_length']>30][WikiHow[WikiHow['text_length']>30].duplicated(subset=[\"text_length\"], keep=False)]"
      ]
    },
    {
      "cell_type": "code",
      "execution_count": null,
      "metadata": {
        "id": "DnjBztwwLw1-"
      },
      "outputs": [],
      "source": [
        "#apply stratified sampling to the dataset\n",
        "N = round(len(WikiHow_removed)/2)\n",
        "WikiHow_sample = WikiHow_removed.groupby('text_length', group_keys=False).apply(lambda x: x.sample(int(np.rint(N*len(x)/len(WikiHow_removed))))).sample(frac=1).reset_index(drop=True)\n",
        "\n",
        "WikiHow_sample.to_csv('WikiHow_sample.csv')\n",
        "!cp WikiHow_sample.csv \"/content/gdrive/My Drive/SNLP_Coursework\""
      ]
    },
    {
      "cell_type": "code",
      "execution_count": null,
      "metadata": {
        "id": "R9QbiR9ssba2"
      },
      "outputs": [],
      "source": [
        "WikiHow_sample_in1024 = WikiHow_sample[(WikiHow_sample['text_length']>512) & (WikiHow_sample['text_length']<1024)]\n",
        "WikiHow_sample_in1024.reset_index(drop=True, inplace=True)\n",
        "\n",
        "WikiHow_sample_in1024.to_csv('WikiHow_sample_in1024.csv')\n",
        "!cp WikiHow_sample_in1024.csv \"/content/gdrive/My Drive/SNLP_Coursework\""
      ]
    },
    {
      "cell_type": "code",
      "source": [
        "WikiHow_sample_in2048 = WikiHow_sample[(WikiHow_sample['text_length']>1024) & (WikiHow_sample['text_length']<2048)]\n",
        "WikiHow_sample_in2048.reset_index(drop=True, inplace=True)\n",
        "\n",
        "WikiHow_sample_in2048.to_csv('WikiHow_sample_in2048.csv')\n",
        "!cp WikiHow_sample_in2048.csv \"/content/gdrive/My Drive/SNLP_Coursework\""
      ],
      "metadata": {
        "id": "yJsRgJu8xMI1"
      },
      "execution_count": null,
      "outputs": []
    },
    {
      "cell_type": "code",
      "execution_count": null,
      "metadata": {
        "colab": {
          "base_uri": "https://localhost:8080/",
          "height": 278
        },
        "id": "iV-wVVFks2At",
        "outputId": "1f9498ae-fda9-48c7-8c1e-d956dda1d21d"
      },
      "outputs": [
        {
          "data": {
            "image/png": "[encoded data removed]",
            "text/plain": [
              "<Figure size 432x288 with 1 Axes>"
            ]
          },
          "metadata": {},
          "output_type": "display_data"
        }
      ],
      "source": [
        "#plot the distribution of our test dataset\n",
        "plt.hist(WikiHow_sample_leq512['text_length'])\n",
        "plt.xlabel('Passages Length')\n",
        "plt.ylabel('Occurence')\n",
        "plt.plot()\n",
        "plt.savefig('sample_distribution.png')"
      ]
    },
    {
      "cell_type": "code",
      "execution_count": null,
      "metadata": {
        "id": "zKGAlggONqJM"
      },
      "outputs": [],
      "source": [
        ""
      ]
    }
  ],
  "metadata": {
    "colab": {
      "collapsed_sections": [],
      "name": "SNLP_WikiHow_Summary.ipynb",
      "provenance": [],
      "include_colab_link": true
    },
    "kernelspec": {
      "display_name": "Python 3",
      "name": "python3"
    },
    "language_info": {
      "name": "python"
    }
  },
  "nbformat": 4,
  "nbformat_minor": 0
}
