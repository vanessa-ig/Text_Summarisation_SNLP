{
 "cells": [
  {
   "cell_type": "code",
   "execution_count": null,
   "id": "2d7832e9",
   "metadata": {},
   "outputs": [],
   "source": [
    "!pip install -q bert-extractive-summarizer\n",
    "!pip install -q spacy==2.1.3\n",
    "!pip install -q transformers==2.2.2\n",
    "!pip install -q neuralcoref\n",
    "!pip install torch==1.6.0+cpu torchvision==0.7.0+cpu -f https://download.pytorch.org/whl/torch_stable.html\n",
    "!pip install bert-extractive-summarizer==0.5.0\n",
    "import torch\n",
    "from summarizer import Summarizer\n",
    "import pandas as pd\n",
    "!pip install torch"
   ]
  },
  {
   "cell_type": "code",
   "execution_count": null,
   "id": "80cff2d1",
   "metadata": {},
   "outputs": [],
   "source": [
    "# load in WikiHow dataset \n",
    "df_results = pd.read_csv('gdrive/MyDrive/SNLP_Coursework/WikiHow_sample_leq512_results_BERT.csv')\n",
    "myText = df['text'][:]\n",
    "\n"
   ]
  },
  {
   "cell_type": "code",
   "execution_count": null,
   "id": "5ebe0ed0",
   "metadata": {},
   "outputs": [],
   "source": [
    "allText = []\n",
    "\n",
    "for i, text in enumerate(myText):\n",
    "    allText.append(text)"
   ]
  },
  {
   "cell_type": "code",
   "execution_count": null,
   "id": "a888d594",
   "metadata": {},
   "outputs": [],
   "source": [
    "def preprocess(text):\n",
    "    preprocess_text = text.strip().replace(\"\\n\",\"\")\n",
    "    return len(preprocess_text.split())"
   ]
  },
  {
   "cell_type": "code",
   "execution_count": null,
   "id": "3a1c96c4",
   "metadata": {},
   "outputs": [],
   "source": [
    "model = Summarizer()"
   ]
  },
  {
   "cell_type": "code",
   "execution_count": null,
   "id": "381c68a4",
   "metadata": {},
   "outputs": [],
   "source": [
    "allSummaries = []\n",
    "\n",
    "for i, text in enumerate(allText):\n",
    "    if i > 1025:\n",
    "        train_length = preprocess(text)\n",
    "        # model(text)\n",
    "        m = round(0.33 * train_length)\n",
    "        summary = ''.join(model(text, max_length=m))\n",
    "        allSummaries.append(summary)\n",
    "        df_results['train_length'][i] = train_length\n",
    "        df_results['summary'][i] = summary\n",
    "        df_results['summary_length'][i] = len(summary.split())\n",
    "        df_results.to_csv('gdrive/MyDrive/SNLP_Coursework/WikiHow_sample_leq512_results_BERT.csv')\n",
    "        print('Processed', i, 'out of', len(allText))\n",
    "        df_results.head()"
   ]
  }
 ],
 "metadata": {
  "kernelspec": {
   "display_name": "Python 3 (ipykernel)",
   "language": "python",
   "name": "python3"
  },
  "language_info": {
   "codemirror_mode": {
    "name": "ipython",
    "version": 3
   },
   "file_extension": ".py",
   "mimetype": "text/x-python",
   "name": "python",
   "nbconvert_exporter": "python",
   "pygments_lexer": "ipython3",
   "version": "3.8.3"
  }
 },
 "nbformat": 4,
 "nbformat_minor": 5
}
